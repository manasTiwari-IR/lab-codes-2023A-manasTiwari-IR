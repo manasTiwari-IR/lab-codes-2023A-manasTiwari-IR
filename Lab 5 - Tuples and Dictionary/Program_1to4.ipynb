{
 "cells": [
  {
   "cell_type": "code",
   "execution_count": 16,
   "id": "764a623e-bbae-4112-8eb2-ba3a61acd986",
   "metadata": {},
   "outputs": [
    {
     "name": "stdin",
     "output_type": "stream",
     "text": [
      "enter coordinate of a 3d point with a whitespace :  2 5 9\n",
      "enter coordinate of a 3d point with a whitespace :  6 1 5\n"
     ]
    },
    {
     "name": "stdout",
     "output_type": "stream",
     "text": [
      "6.9282\n"
     ]
    }
   ],
   "source": [
    "#Program 1\n",
    "import math\n",
    "s1 = (input(\"enter coordinate of a 3d point with a whitespace : \"))\n",
    "s2 = (input(\"enter coordinate of a 3d point with a whitespace : \"))\n",
    "t1 = tuple(s1.split(\" \"))\n",
    "t2 = tuple(s2.split(\" \"))\n",
    "t3 = tuple()\n",
    "sum = 0\n",
    "for i in range(0,3,1) :\n",
    "    x = (int)(t1[i]) - (int)(t2[i])\n",
    "    sum += (x*x)\n",
    "\n",
    "ans = math.sqrt(sum)\n",
    "ans = \"{:.4f}\".format(ans)\n",
    "print(ans)"
   ]
  },
  {
   "cell_type": "code",
   "execution_count": 38,
   "id": "8f71170a-fde5-47e2-b0e2-fdcb9956295e",
   "metadata": {},
   "outputs": [
    {
     "name": "stdin",
     "output_type": "stream",
     "text": [
      "Enter number of students :  4\n",
      " we\n",
      " rt\n",
      " yu\n",
      " io\n",
      " 1\n",
      " 2\n",
      " 3\n",
      " 4\n",
      " 34\n",
      " 78\n",
      " 12\n",
      " 89\n"
     ]
    },
    {
     "name": "stdout",
     "output_type": "stream",
     "text": [
      "[('we', 1, 34), ('rt', 2, 78), ('yu', 3, 12), ('io', 4, 89)]\n"
     ]
    },
    {
     "data": {
      "text/plain": [
       "[('yu', 3, 12), ('we', 1, 34), ('rt', 2, 78), ('io', 4, 89)]"
      ]
     },
     "execution_count": 38,
     "metadata": {},
     "output_type": "execute_result"
    }
   ],
   "source": [
    "#Program 2\n",
    "def mysort(e):\n",
    "    return e[2]\n",
    "\n",
    "n = int(input(\"Enter number of students : \"))\n",
    "name = [input() for x in range(n) ]\n",
    "rollno = [int(input()) for x in range(n) ]\n",
    "marks = [int(input()) for x in range(n) ]\n",
    "detail = list(zip(name,rollno,marks))\n",
    "print(detail)\n",
    "detail.sort(key = mysort)\n",
    "detail"
   ]
  },
  {
   "cell_type": "code",
   "execution_count": 44,
   "id": "26845fe4-cff7-4fe3-b111-a8ef0e1f8541",
   "metadata": {},
   "outputs": [
    {
     "name": "stdin",
     "output_type": "stream",
     "text": [
      "Enter number of students :  3\n",
      " er\n",
      " df\n",
      " as\n",
      " 1\n",
      " 2\n",
      " 3\n",
      " 34\n",
      " 68\n",
      " 12\n"
     ]
    },
    {
     "data": {
      "text/plain": [
       "[('as', 3, 12), ('er', 1, 34), ('df', 2, 68)]"
      ]
     },
     "execution_count": 44,
     "metadata": {},
     "output_type": "execute_result"
    }
   ],
   "source": [
    "#Program 3\n",
    "def bubble_sort(na,r,m):\n",
    "    for n in range(len(na) - 1, 0, -1):\n",
    "        for i in range(n):\n",
    "            if m[i] > m[i + 1]:\n",
    "                swapped = True\n",
    "                m[i], m[i + 1] = m[i + 1], m[i]\n",
    "                na[i], na[i + 1] =na[i + 1], na[i]\n",
    "                r[i], r[i + 1] = r[i + 1], r[i]\n",
    "                \n",
    "n = int(input(\"Enter number of students : \"))\n",
    "name = [input() for x in range(n) ]\n",
    "rollno = [int(input()) for x in range(n) ]\n",
    "marks = [int(input()) for x in range(n) ]\n",
    "bubble_sort(name,rollno,marks)\n",
    "name\n",
    "rollno\n",
    "marks\n",
    "details = []\n",
    "for i in range(len(name)):\n",
    "    details.append((name[i],rollno[i],marks[i]))\n",
    "\n",
    "details"
   ]
  },
  {
   "cell_type": "code",
   "execution_count": 45,
   "id": "5b3c8749-14ec-45e4-bcb4-2fa21c8b38b2",
   "metadata": {},
   "outputs": [
    {
     "name": "stdin",
     "output_type": "stream",
     "text": [
      "Enter a string :  manas\n"
     ]
    },
    {
     "data": {
      "text/plain": [
       "{'m': 1, 'a': 2, 'n': 1, 's': 1}"
      ]
     },
     "execution_count": 45,
     "metadata": {},
     "output_type": "execute_result"
    }
   ],
   "source": [
    "#Program 4\n",
    "st = input(\"Enter a string : \")\n",
    "dd = {}\n",
    "for a in st:\n",
    "    if a in dd:\n",
    "        dd[a] += 1\n",
    "    else :\n",
    "        dd[a] = 1\n",
    "\n",
    "dd"
   ]
  },
  {
   "cell_type": "code",
   "execution_count": null,
   "id": "95461eab-5ebb-4da8-9b90-b0fab4d7c26e",
   "metadata": {},
   "outputs": [],
   "source": []
  }
 ],
 "metadata": {
  "kernelspec": {
   "display_name": "Python 3 (ipykernel)",
   "language": "python",
   "name": "python3"
  },
  "language_info": {
   "codemirror_mode": {
    "name": "ipython",
    "version": 3
   },
   "file_extension": ".py",
   "mimetype": "text/x-python",
   "name": "python",
   "nbconvert_exporter": "python",
   "pygments_lexer": "ipython3",
   "version": "3.12.4"
  }
 },
 "nbformat": 4,
 "nbformat_minor": 5
}

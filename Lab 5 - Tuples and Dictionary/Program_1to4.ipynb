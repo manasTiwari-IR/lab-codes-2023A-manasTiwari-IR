{
 "cells": [
  {
   "cell_type": "code",
   "execution_count": 3,
   "id": "764a623e-bbae-4112-8eb2-ba3a61acd986",
   "metadata": {},
   "outputs": [
    {
     "name": "stdin",
     "output_type": "stream",
     "text": [
      "enter coordinate of a 3d point with a whitespace :  2 5 9\n",
      "enter coordinate of a 3d point with a whitespace :  6 1 5\n"
     ]
    },
    {
     "name": "stdout",
     "output_type": "stream",
     "text": [
      "6.9282\n"
     ]
    }
   ],
   "source": [
    "#Program 1\n",
    "import math\n",
    "s1 = (input(\"enter coordinate of a 3d point with a whitespace : \"))\n",
    "s2 = (input(\"enter coordinate of a 3d point with a whitespace : \"))\n",
    "t1 = tuple(s1.split(\" \"))\n",
    "t2 = tuple(s2.split())\n",
    "t3 = tuple()\n",
    "sum = 0\n",
    "for i in range(0,3,1) :\n",
    "    x = (int)(t1[i]) - (int)(t2[i])\n",
    "    sum += (x*x)\n",
    "\n",
    "ans = math.sqrt(sum)\n",
    "ans = \"{:.4f}\".format(ans)\n",
    "print(ans)"
   ]
  },
  {
   "cell_type": "code",
   "execution_count": 1,
   "id": "8f71170a-fde5-47e2-b0e2-fdcb9956295e",
   "metadata": {},
   "outputs": [
    {
     "ename": "SyntaxError",
     "evalue": "'[' was never closed (1230223961.py, line 7)",
     "output_type": "error",
     "traceback": [
      "\u001b[1;36m  Cell \u001b[1;32mIn[1], line 7\u001b[1;36m\u001b[0m\n\u001b[1;33m    rollno = [int(input()) for x in range(n)\u001b[0m\n\u001b[1;37m             ^\u001b[0m\n\u001b[1;31mSyntaxError\u001b[0m\u001b[1;31m:\u001b[0m '[' was never closed\n"
     ]
    }
   ],
   "source": [
    "#Program 2\n",
    "def mysort(e):\n",
    "    return e[1]\n",
    "\n",
    "n = int(input(\"Enter number of students : \"))\n",
    "name = [input() for x in range(n) ]\n",
    "rollno = [int(input()) for x in range(n) ]\n",
    "marks = [int(input()) for x in range(n) ]\n",
    "detail = list(zip(name,rollno,marks))\n",
    "print(detail)\n",
    "detail.sort(key = mysort)\n",
    "detail"
   ]
  },
  {
   "cell_type": "code",
   "execution_count": 44,
   "id": "26845fe4-cff7-4fe3-b111-a8ef0e1f8541",
   "metadata": {},
   "outputs": [
    {
     "name": "stdin",
     "output_type": "stream",
     "text": [
      "Enter number of students :  3\n",
      " er\n",
      " df\n",
      " as\n",
      " 1\n",
      " 2\n",
      " 3\n",
      " 34\n",
      " 68\n",
      " 12\n"
     ]
    },
    {
     "data": {
      "text/plain": [
       "[('as', 3, 12), ('er', 1, 34), ('df', 2, 68)]"
      ]
     },
     "execution_count": 44,
     "metadata": {},
     "output_type": "execute_result"
    }
   ],
   "source": [
    "#Program 3\n",
    "def bubble_sort(na,r,m):\n",
    "    for n in range(len(na) - 1, 0, -1):\n",
    "        for i in range(n):\n",
    "            if m[i] > m[i + 1]:\n",
    "                swapped = True\n",
    "                m[i], m[i + 1] = m[i + 1], m[i]\n",
    "                na[i], na[i + 1] =na[i + 1], na[i]\n",
    "                r[i], r[i + 1] = r[i + 1], r[i]\n",
    "                \n",
    "n = int(input(\"Enter number of students : \"))\n",
    "name = [input() for x in range(n)]\n",
    "rollno = [int(input()) for x in range(n)]\n",
    "marks = [int(input()) for x in range(n)]\n",
    "bubble_sort(name,rollno,marks)\n",
    "name\n",
    "rollno\n",
    "marks\n",
    "details = []\n",
    "for i in range(len(name)):\n",
    "    details.append((name[i],rollno[i],marks[i]))\n",
    "\n",
    "details"
   ]
  },
  {
   "cell_type": "code",
   "execution_count": 45,
   "id": "5b3c8749-14ec-45e4-bcb4-2fa21c8b38b2",
   "metadata": {},
   "outputs": [
    {
     "name": "stdin",
     "output_type": "stream",
     "text": [
      "Enter a string :  manas\n"
     ]
    },
    {
     "data": {
      "text/plain": [
       "{'m': 1, 'a': 2, 'n': 1, 's': 1}"
      ]
     },
     "execution_count": 45,
     "metadata": {},
     "output_type": "execute_result"
    }
   ],
   "source": [
    "#Program 4\n",
    "st = input(\"Enter a string : \")\n",
    "dd = {}\n",
    "for a in st:\n",
    "    if a in dd:\n",
    "        dd[a] += 1\n",
    "    else :\n",
    "        dd[a] = 1\n",
    "\n",
    "dd"
   ]
  },
  {
   "cell_type": "code",
   "execution_count": 2,
   "id": "95461eab-5ebb-4da8-9b90-b0fab4d7c26e",
   "metadata": {},
   "outputs": [
    {
     "name": "stdin",
     "output_type": "stream",
     "text": [
      "Enter name for customer 1:  rr\n",
      "Enter name for customer 2:  tt\n",
      "Enter name for customer 3:  yy\n",
      "Enter ID for customer 1:  12\n",
      "Enter ID for customer 2:  23\n",
      "Enter ID for customer 3:  45\n",
      "Enter shopping points for customer 1:  123\n",
      "Enter shopping points for customer 2:  234\n",
      "Enter shopping points for customer 3:  153\n"
     ]
    },
    {
     "name": "stdout",
     "output_type": "stream",
     "text": [
      "\n",
      "Customers constructed with zip():\n",
      "[('rr', '12', 123.0), ('tt', '23', 234.0), ('yy', '45', 153.0)]\n",
      "Sorted customers (with zip) using Bubble Sort:\n",
      "[('rr', '12', 123.0), ('yy', '45', 153.0), ('tt', '23', 234.0)]\n",
      "Sorted customers (with zip) using Selection Sort:\n",
      "[('rr', '12', 123.0), ('yy', '45', 153.0), ('tt', '23', 234.0)]\n",
      "\n",
      "Customers constructed without zip():\n",
      "[('rr', '12', 123.0), ('tt', '23', 234.0), ('yy', '45', 153.0)]\n",
      "Sorted customers (without zip) using Bubble Sort:\n",
      "[('rr', '12', 123.0), ('yy', '45', 153.0), ('tt', '23', 234.0)]\n",
      "Sorted customers (without zip) using Selection Sort:\n",
      "[('rr', '12', 123.0), ('yy', '45', 153.0), ('tt', '23', 234.0)]\n"
     ]
    }
   ],
   "source": [
    "#Program 5\n",
    "# Function to perform Bubble Sort\n",
    "def bubble_sort(arr):\n",
    "    n = len(arr)\n",
    "    for i in range(n):\n",
    "        for j in range(0, n - i - 1):\n",
    "            if arr[j][2] > arr[j + 1][2]:  # Sort based on shopping points (index 2)\n",
    "                arr[j], arr[j + 1] = arr[j + 1], arr[j]\n",
    "    return arr\n",
    "\n",
    "# Function to perform Selection Sort\n",
    "def selection_sort(arr):\n",
    "    n = len(arr)\n",
    "    for i in range(n):\n",
    "        min_index = i\n",
    "        for j in range(i + 1, n):\n",
    "            if arr[j][2] < arr[min_index][2]:  # Sort based on shopping points (index 2)\n",
    "                min_index = j\n",
    "        arr[i], arr[min_index] = arr[min_index], arr[i]\n",
    "    return arr\n",
    "\n",
    "# Input customer data using list comprehension\n",
    "customer_names = [input(f\"Enter name for customer {i+1}: \") for i in range(3)]\n",
    "customer_ids = [input(f\"Enter ID for customer {i+1}: \") for i in range(3)]\n",
    "shopping_points = [float(input(f\"Enter shopping points for customer {i+1}: \")) for i in range(3)]\n",
    "\n",
    "# Constructing list of tuples using zip()\n",
    "customers_with_zip = list(zip(customer_names, customer_ids, shopping_points))\n",
    "\n",
    "# Constructing list of tuples without using zip()\n",
    "customers_without_zip = [(customer_names[i], customer_ids[i], shopping_points[i]) for i in range(len(customer_names))]\n",
    "\n",
    "# Sorting the lists of tuples using Bubble Sort\n",
    "sorted_customers_with_zip_bubble = bubble_sort(customers_with_zip.copy())  # Use copy to avoid modifying original\n",
    "sorted_customers_without_zip_bubble = bubble_sort(customers_without_zip.copy())\n",
    "\n",
    "# Sorting the lists of tuples using Selection Sort\n",
    "sorted_customers_with_zip_selection = selection_sort(customers_with_zip.copy())\n",
    "sorted_customers_without_zip_selection = selection_sort(customers_without_zip.copy())\n",
    "\n",
    "# Displaying results\n",
    "print(\"\\nCustomers constructed with zip():\")\n",
    "print(customers_with_zip)\n",
    "print(\"Sorted customers (with zip) using Bubble Sort:\")\n",
    "print(sorted_customers_with_zip_bubble)\n",
    "print(\"Sorted customers (with zip) using Selection Sort:\")\n",
    "print(sorted_customers_with_zip_selection)\n",
    "\n",
    "print(\"\\nCustomers constructed without zip():\")\n",
    "print(customers_without_zip)\n",
    "print(\"Sorted customers (without zip) using Bubble Sort:\")\n",
    "print(sorted_customers_without_zip_bubble)\n",
    "print(\"Sorted customers (without zip) using Selection Sort:\")\n",
    "print(sorted_customers_without_zip_selection)"
   ]
  },
  {
   "cell_type": "code",
   "execution_count": 8,
   "id": "90ea57f8-6d50-468b-a786-a661b3f8e1bc",
   "metadata": {},
   "outputs": [
    {
     "name": "stdin",
     "output_type": "stream",
     "text": [
      " rr\n",
      " tt\n",
      " uu\n",
      " 12\n",
      " 23\n",
      " 34\n",
      " 453\n",
      " 234\n",
      " 234\n"
     ]
    },
    {
     "name": "stdout",
     "output_type": "stream",
     "text": [
      "[('rr', '12', '453'), ('tt', '23', '234'), ('uu', '34', '234')]\n",
      "[('tt', '23', '234'), ('uu', '34', '234'), ('rr', '12', '453')]\n"
     ]
    }
   ],
   "source": [
    "names = [input() for i in range(3)]\n",
    "ids = [input() for i in range(3)]\n",
    "pnt = [input() for i in range(3)]\n",
    "\n",
    "d = [(names[i],ids[i],pnt[i]) for i in range (len(ids))]\n",
    "print(d)\n",
    "d.sort(key=lambda x : x[2])\n",
    "print(d)"
   ]
  },
  {
   "cell_type": "code",
   "execution_count": null,
   "id": "3f3d3e5e-64a5-4793-a4c6-529a76fd9516",
   "metadata": {},
   "outputs": [],
   "source": []
  }
 ],
 "metadata": {
  "kernelspec": {
   "display_name": "Python 3 (ipykernel)",
   "language": "python",
   "name": "python3"
  },
  "language_info": {
   "codemirror_mode": {
    "name": "ipython",
    "version": 3
   },
   "file_extension": ".py",
   "mimetype": "text/x-python",
   "name": "python",
   "nbconvert_exporter": "python",
   "pygments_lexer": "ipython3",
   "version": "3.12.4"
  }
 },
 "nbformat": 4,
 "nbformat_minor": 5
}

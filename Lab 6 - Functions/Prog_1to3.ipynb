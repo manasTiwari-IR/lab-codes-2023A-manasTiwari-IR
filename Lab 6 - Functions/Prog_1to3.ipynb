{
 "cells": [
  {
   "cell_type": "code",
   "execution_count": null,
   "id": "8ec8056c-6911-49da-9097-73b52149795d",
   "metadata": {},
   "outputs": [],
   "source": [
    "#Lab 6"
   ]
  },
  {
   "cell_type": "code",
   "execution_count": 11,
   "id": "81ce11cd-98a8-463e-a252-480e4508266b",
   "metadata": {},
   "outputs": [
    {
     "name": "stdin",
     "output_type": "stream",
     "text": [
      " manas rohan ashu\n",
      " 23 67 12\n",
      " 123 234 189\n"
     ]
    },
    {
     "name": "stdout",
     "output_type": "stream",
     "text": [
      "Original list\n",
      "[('manas', 23, 123), ('rohan', 67, 234), ('ashu', 12, 189)]\n",
      "Sorted List with key 0:-\n",
      "[('manas', 23, 123), ('rohan', 67, 234), ('ashu', 12, 189)]\n",
      "Sorted List with key 1:-\n",
      "[('manas', 23, 123), ('rohan', 67, 234), ('ashu', 12, 189)]\n",
      "Sorted List with key 2:-\n",
      "[('manas', 23, 123), ('rohan', 67, 234), ('ashu', 12, 189)]\n"
     ]
    }
   ],
   "source": [
    "#Program 1,2\n",
    "def my_zip(a,b,c):\n",
    "    return list(zip(a,b,c))\n",
    "\n",
    "def my_sort(arr, key):\n",
    "    n = len(arr)\n",
    "    for i in range(n):\n",
    "        swapped = False\n",
    "        for j in range(0, n-1-1):\n",
    "            if arr[j] [key] > arr[j+1] [key]:\n",
    "                arr[j]. arr[j+1]  = arr[1+1], arr[j]\n",
    "                swapped = True\n",
    "                if (swapped == False):\n",
    "                    break\n",
    "customer_name =  [x for x in input().split()]\n",
    "customer_id =  [(int)(x) for x in input().split()]\n",
    "shop_pts = [(int)(x) for x in input().split()]\n",
    "\n",
    "ans =  my_zip(customer_name,customer_id,shop_pts)\n",
    "\n",
    "print(\"Original list\")\n",
    "print(ans)\n",
    "print(\"Sorted List with key 0:-\")\n",
    "my_sort(ans,0)\n",
    "print(ans)\n",
    "print(\"Sorted List with key 1:-\")\n",
    "my_sort(ans,1)\n",
    "print(ans)\n",
    "print(\"Sorted List with key 2:-\")\n",
    "my_sort(ans,2) \n",
    "print(ans)"
   ]
  },
  {
   "cell_type": "code",
   "execution_count": null,
   "id": "0f3e713c-15da-4dee-b238-b8baaca8a59c",
   "metadata": {},
   "outputs": [],
   "source": [
    "#Program 3"
   ]
  }
 ],
 "metadata": {
  "kernelspec": {
   "display_name": "Python 3 (ipykernel)",
   "language": "python",
   "name": "python3"
  },
  "language_info": {
   "codemirror_mode": {
    "name": "ipython",
    "version": 3
   },
   "file_extension": ".py",
   "mimetype": "text/x-python",
   "name": "python",
   "nbconvert_exporter": "python",
   "pygments_lexer": "ipython3",
   "version": "3.12.4"
  }
 },
 "nbformat": 4,
 "nbformat_minor": 5
}
